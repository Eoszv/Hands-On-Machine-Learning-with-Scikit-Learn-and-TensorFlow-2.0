{
 "cells": [
  {
   "cell_type": "code",
   "execution_count": 2,
   "metadata": {},
   "outputs": [],
   "source": [
    "%config IPCompleter.greedy = True\n",
    "%config InlineBackend.figure_format = 'retina'\n",
    "%matplotlib inline\n",
    "%load_ext tensorboard\n",
    "\n",
    "import matplotlib.pyplot as plt\n",
    "import numpy as np\n",
    "import pandas as pd\n",
    "import seaborn as sn\n",
    "import tensorflow as tf\n",
    "from datetime import datetime\n",
    "\n",
    "pd.set_option('mode.chained_assignment', None)\n",
    "sn.set(rc={'figure.figsize':(9,9)})\n",
    "sn.set(font_scale=1.4)\n",
    "\n",
    "# !pip install pydot\n",
    "!rm -rf ./logs/ "
   ]
  },
  {
   "cell_type": "markdown",
   "metadata": {},
   "source": [
    "# Working with Tensorflow 2.0\n",
    "\n",
    "\n",
    "[**TensorFlow**](https://www.tensorflow.org/) is an end-to-end open source platform for machine learning. It has a comprehensive, flexible ecosystem of tools, libraries, and community resources that lets researchers push the state-of-the-art in ML and developers easily build and deploy ML-powered applications.\n",
    "\n",
    "TensorFlow library is a free and open-source software library for *dataflow* (dataflow programming is a programming paradigm that models a program as a directed graph of the data flowing between operations, thus implementing dataflow principles and architecture) and *differentiable programming* (Differentiable programming is a programming paradigm in which the programs can be differentiated throughout, usually via automatic differentiation. This allows for gradient based optimization of parameters in the program, often via gradient descent.) across a range of tasks. It is a symbolic math library, and is also used for machine learning applications such as neural networks. It is used for both research and production at Google.\n",
    "\n",
    "TensorFlow was originally developed by researchers and engineers working on the Google Brain team within Google's Machine Intelligence Research organization to conduct machine learning and deep neural networks research. The system is general enough to be applicable in a wide variety of other domains, as well. It is one of the most popular libaries for machine learning with neural networks.\n",
    "\n",
    "TensorFlow provides stable Python and C++ APIs, as well as non-guaranteed backward compatible API for other languages.\n",
    "\n",
    "### Tensorflow tensors\n",
    "\n",
    "A tensor is a generalization of vectors and matrices to potentially higher dimensions. Internally, TensorFlow represents tensors as n-dimensional arrays of base datatypes (similar to `numpy.ndarray`).\n",
    "\n",
    "When we write a TensorFlow program, we mainly operate and pass around `tf.Tensor` objects, which represents a partially defined data object that will eventually produce a value. In a Tensorflow program, we specify how these `tf.Tensor`'s link into a computation graph. We can then run the computation graph to get the output (based on an input), and use differential properties of the graph to optomise for parameter (`tf.Tensor` nodes) in the program. `tf.Tenor`'s can reside in GPU or CPU memory. Tensorflow supports a rich library of operations (`tf.add`, `tf.matmul`, `tf.linalg.inv` etc) that consume and produce `tf.Tensors`'s. These operations also automatically convert to native Python types too.\n"
   ]
  },
  {
   "cell_type": "code",
   "execution_count": 3,
   "metadata": {},
   "outputs": [
    {
     "name": "stdout",
     "output_type": "stream",
     "text": [
      "TensorFlow version : 2.1.0\n",
      "\n",
      "\n",
      "tf.Tensor(4, shape=(), dtype=int32)\n",
      "tf.Tensor([8 9], shape=(2,), dtype=int32)\n",
      "tf.Tensor(4, shape=(), dtype=int32)\n",
      "tf.Tensor(9, shape=(), dtype=int32)\n",
      "tf.Tensor(13, shape=(), dtype=int32)\n"
     ]
    }
   ],
   "source": [
    "import tensorflow as tf\n",
    "print(\"TensorFlow version : {}\\n\\n\".format(tf.__version__))\n",
    "\n",
    "print(tf.add(1, 3))\n",
    "print(tf.add([2, 3], [6, 6]))\n",
    "print(tf.square(2))\n",
    "print(tf.reduce_sum([4, 3, 2]))\n",
    "\n",
    "# Operator overloading is also supported\n",
    "print(tf.square(3) + tf.square(2))"
   ]
  },
  {
   "cell_type": "markdown",
   "metadata": {},
   "source": [
    "Each `tf.Tensor` has a datatype and a shape"
   ]
  },
  {
   "cell_type": "code",
   "execution_count": 4,
   "metadata": {},
   "outputs": [
    {
     "name": "stdout",
     "output_type": "stream",
     "text": [
      "tf.Tensor([[4 3]], shape=(1, 2), dtype=int32)\n",
      "(1, 2)\n",
      "<dtype: 'int32'>\n"
     ]
    }
   ],
   "source": [
    "x = tf.constant([[4,3]])\n",
    "print(x)\n",
    "print(x.shape)\n",
    "print(x.dtype)"
   ]
  },
  {
   "cell_type": "markdown",
   "metadata": {},
   "source": [
    "Tensors differ from numpy arrays as they are *immutable*, can be computed and stored in the GPU or CPU.\n",
    "\n",
    "However it easy to convert from a `tf.Tensor` to a `np.ndarray`. Tensorflow automatically converts numpy arrays to `tf.Tensors`."
   ]
  },
  {
   "cell_type": "code",
   "execution_count": 5,
   "metadata": {},
   "outputs": [
    {
     "name": "stdout",
     "output_type": "stream",
     "text": [
      "Tensor :\n",
      " tf.Tensor(\n",
      "[[2 4]\n",
      " [6 8]], shape=(2, 2), dtype=int64)\n",
      "\n",
      "Tensor :\n",
      " tf.Tensor(\n",
      "[[2 4]\n",
      " [6 8]], shape=(2, 2), dtype=int32)\n",
      "\n",
      "Numpy ndarray :\n",
      " [[ 4  8]\n",
      " [12 16]]\n",
      "\n",
      "Numpy ndarray : \n",
      " [[2 4]\n",
      " [6 8]]\n"
     ]
    }
   ],
   "source": [
    "ndarray = np.array([[1, 2], [3, 4]])\n",
    "\n",
    "# Tensorflow converts ndarray to a tensor after an operation\n",
    "tensor = tf.multiply(ndarray, 2)\n",
    "print('Tensor :\\n', tensor)\n",
    "\n",
    "# Tensorflow converts ndarray to a tensor after operator overloading operation\n",
    "tensor = tf.constant(2) * ndarray\n",
    "print('\\nTensor :\\n', tensor)\n",
    "\n",
    "# Numpy can convert a tensor to a numpy ndarray\n",
    "numpy_array = np.multiply(tensor, 2)\n",
    "print('\\nNumpy ndarray :\\n', numpy_array)\n",
    "\n",
    "# It does this by calling the .numpy() method explicity\n",
    "print('\\nNumpy ndarray : \\n', tensor.numpy())"
   ]
  },
  {
   "cell_type": "markdown",
   "metadata": {},
   "source": [
    "We can also index tensors with the same convention as numpy."
   ]
  },
  {
   "cell_type": "code",
   "execution_count": 6,
   "metadata": {},
   "outputs": [
    {
     "name": "stdout",
     "output_type": "stream",
     "text": [
      "tf.Tensor(2, shape=(), dtype=int32)\n",
      "\n",
      " tf.Tensor([4 8], shape=(2,), dtype=int32)\n"
     ]
    }
   ],
   "source": [
    "print(tensor[0, 0])\n",
    "print('\\n', tensor[:, 1])"
   ]
  },
  {
   "cell_type": "markdown",
   "metadata": {},
   "source": [
    "Tensorflow operations can be accelerated by parralelised to be computed on a GPU. By default, Tensorflow automatically decides whether to use the GPU or CPU for an operation (copying the memory between them if necessary). "
   ]
  },
  {
   "cell_type": "code",
   "execution_count": 7,
   "metadata": {},
   "outputs": [
    {
     "name": "stdout",
     "output_type": "stream",
     "text": [
      "List if there is a GPU available :  []\n",
      "\n",
      "Is the Tensor on GPU #0:  False\n"
     ]
    }
   ],
   "source": [
    "x = tf.random.uniform([4, 4])\n",
    "\n",
    "print(\"List if there is a GPU available : \", tf.config.experimental.list_physical_devices(\"GPU\"))\n",
    "\n",
    "print(\"\\nIs the Tensor on GPU #0: \", x.device.endswith('GPU:0'))"
   ]
  },
  {
   "cell_type": "markdown",
   "metadata": {},
   "source": [
    "The `tf.Tensor` has the same data type `tf.Dtype` (e.g. {`int32`, `float32`, `string`}) for each element. There are some special types of tensors, such as `tf.Variable`, `tf.constant`, `tf.SparseTensor`, `tf.placeholder`. The data of a tensor is immutable, meaning that in a single run of the graph the data doesn't change.\n",
    "\n",
    "Depending on the dimension of the tensor, we get the following\n",
    "\n",
    "|Dimension|Classical mathematical form|\n",
    "|---|---|\n",
    "| 0       | Scalar                    |\n",
    "| 1       | Vector                    |\n",
    "| 2       | Matrix                    |\n",
    "| 3       | 3-Tensor                  |\n",
    "| n       | n-Tensor                  |\n",
    "\n",
    "\n",
    "\n",
    "A variable, i.e. `tf.Variable` is the best way to represent shared state, and the value can be changed by running operations on it. Higher level libraries like `keras` use `tf.Variable`'s to store model parameters."
   ]
  },
  {
   "cell_type": "code",
   "execution_count": 8,
   "metadata": {},
   "outputs": [
    {
     "name": "stdout",
     "output_type": "stream",
     "text": [
      "<tf.Variable 'Variable:0' shape=(2, 3) dtype=float32, numpy=\n",
      "array([[0., 0., 0.],\n",
      "       [0., 0., 0.]], dtype=float32)>\n",
      "\n",
      " <tf.Variable 'Variable:0' shape=() dtype=int32, numpy=5>\n",
      "\n",
      " <tf.Variable 'Variable:0' shape=() dtype=int32, numpy=4>\n",
      "\n",
      " tf.Tensor(4, shape=(), dtype=int32)\n"
     ]
    }
   ],
   "source": [
    "zeros = tf.Variable(tf.zeros([2,3]))\n",
    "print(zeros)\n",
    "\n",
    "scalar = tf.Variable(5)\n",
    "print('\\n', scalar)\n",
    "\n",
    "# To assign a value to an already set variable we use the .assign() method\n",
    "scalar.assign(4)\n",
    "print('\\n', scalar)\n",
    "\n",
    "# We can also explicitly read a value using the .read_value() method\n",
    "print('\\n', scalar.read_value())"
   ]
  },
  {
   "cell_type": "markdown",
   "metadata": {},
   "source": [
    "### Eager execution\n",
    "\n",
    "A very useful feature in tensorflow 2.0, enabled by default is *eager execution*, which is an imperative programming enviroment that evaluates operations immediately, without building graphs: operations return definitive values rather than constructing a computational graph to run later. This makes it easy to start working with Tensorflow and debug models. This allows use of Pythons data structures, flexibility how we can structure our code and using Python control flow as well. This supports GPU operations as well."
   ]
  },
  {
   "cell_type": "code",
   "execution_count": 9,
   "metadata": {},
   "outputs": [
    {
     "name": "stdout",
     "output_type": "stream",
     "text": [
      "Tensorflow 2.1.0, executing early by default\n",
      "Are we evaluating operations immediately ? : True\n"
     ]
    }
   ],
   "source": [
    "print('Tensorflow {}, executing early by default\\nAre we evaluating operations immediately ? : {}'.format(tf.__version__, tf.executing_eagerly()))"
   ]
  },
  {
   "cell_type": "code",
   "execution_count": 10,
   "metadata": {},
   "outputs": [
    {
     "name": "stdout",
     "output_type": "stream",
     "text": [
      "z = 6\n",
      " As\n",
      "z = 6 = x (2) * y (3)\n"
     ]
    }
   ],
   "source": [
    "# When we run Tensorflow operations the result is immediately returned\n",
    "x = tf.constant(2, name='x')\n",
    "y = tf.constant(3, name='y')\n",
    "z = x * y\n",
    "\n",
    "print('z = {}\\n As'.format(z))\n",
    "print('z = {} = x ({}) * y ({})'.format(z, x, y))"
   ]
  },
  {
   "cell_type": "code",
   "execution_count": 11,
   "metadata": {},
   "outputs": [
    {
     "name": "stdout",
     "output_type": "stream",
     "text": [
      "z = 6 = x (2) * y (3)\n"
     ]
    },
    {
     "data": {
      "text/plain": [
       "Reusing TensorBoard on port 6010 (pid 3933), started 3:50:24 ago. (Use '!kill 3933' to kill it.)"
      ]
     },
     "metadata": {},
     "output_type": "display_data"
    },
    {
     "data": {
      "text/html": [
       "\n",
       "      <iframe id=\"tensorboard-frame-8044b5aa74b1589d\" width=\"100%\" height=\"800\" frameborder=\"0\">\n",
       "      </iframe>\n",
       "      <script>\n",
       "        (function() {\n",
       "          const frame = document.getElementById(\"tensorboard-frame-8044b5aa74b1589d\");\n",
       "          const url = new URL(\"/\", window.location);\n",
       "          url.port = 6010;\n",
       "          frame.src = url;\n",
       "        })();\n",
       "      </script>\n",
       "  "
      ],
      "text/plain": [
       "<IPython.core.display.HTML object>"
      ]
     },
     "metadata": {},
     "output_type": "display_data"
    }
   ],
   "source": [
    "# Visualise the computation graph\n",
    "\n",
    "# The function to be traced.\n",
    "@tf.function\n",
    "def my_func(x, y):\n",
    "  # A simple hand-rolled layer.\n",
    "  return x*y\n",
    "\n",
    "# Set up logging.\n",
    "stamp = datetime.now().strftime(\"%Y%m%d-%H%M%S\")\n",
    "logdir = 'logs/func/%s' % stamp\n",
    "writer = tf.summary.create_file_writer(logdir)\n",
    "\n",
    "# Sample data for your function.\n",
    "x = tf.constant(2, name='x')\n",
    "y = tf.constant(3, name='y')\n",
    "\n",
    "# Bracket the function call with\n",
    "# tf.summary.trace_on() and tf.summary.trace_export().\n",
    "tf.summary.trace_on(graph=True, profiler=True)\n",
    "# Call only one tf.function when tracing.\n",
    "z = my_func(x, y)\n",
    "with writer.as_default():\n",
    "  tf.summary.trace_export(\n",
    "      name=\"my_func_trace\",\n",
    "      step=0,\n",
    "      profiler_outdir=logdir)\n",
    "\n",
    "print('z = {} = x ({}) * y ({})'.format(z, x, y))\n",
    "\n",
    "%tensorboard --logdir logs/func"
   ]
  },
  {
   "attachments": {
    "ReverseaccumulationAD.png": {
     "image/png": "[encoded data removed]"
    }
   },
   "cell_type": "markdown",
   "metadata": {},
   "source": [
    "## Automatic differentiation\n",
    "\n",
    "[Automatic differentiation](https://www.wikiwand.com/en/Automatic_differentiation) (AD) is a set of techniques to numerically evaluate the derivative of a function specified by a computer program. AD exploits the fact that every computer program, no matter how complicated, executes a sequence of elementary arithmetic operations (addition, subtraction, multiplication, division, etc.) and elementary functions (exp, log, sin, cos, etc.). By applying the chain rule repeatedly to these operations, derivatives of arbitrary order can be computed automatically, accurately to working precision, and using at most a small constant factor more arithmetic operations than the original program.\n",
    "\n",
    "#### The chain rule, forward and reverse accumulation\n",
    "\n",
    "Fundamental to AD is the decomposition of differentials provided by the chain rule. For the simple composition \n",
    "\n",
    "$$\\begin{align}\n",
    "y &= f(g(h(x))) = f(g(h(w_0))) = f(g(w_1)) = f(w_2) = w_3 \\\\\n",
    "w_0 &= x \\\\ \n",
    "w_1 &= h(w_0) \\\\\n",
    "w_2 &= g(w_1) \\\\\n",
    "w_3 &= f(w_2) = y\n",
    "\\end{align}$$\n",
    "\n",
    "the chain rule gives\n",
    "\n",
    "$$\\frac{dy}{dx} = \\frac{dy}{dw_2} \\frac{dw_2}{dw_1} \\frac{dw_1}{dx}$$\n",
    "\n",
    "Usually, two distinct modes of AD are presented, *forward accumulation* (or *forward mode*) and *reverse accumulation* (or *reverse mode*). Forward accumulation specifies that one traverses the chain rule from inside to outside (that is, first compute $dw_1/dx$ and then $dw_2/dw_1$ and at last $dy/dw_2$), while reverse accumulation has the traversal from outside to inside (first compute $dy/dw_2$ and then $dw_2/dw_1$ and at last $dw_1/dx$). More succinctly,\n",
    "1. *forward accumulation* computes the recursive relation: $\\frac{dw_i}{dx} = \\frac{dw_i}{dw_{i-1}} \\frac{dw_{i-1}}{dx}$ with $w_3 = y$, and,\n",
    "2. *reverse accumulation* computes the recursive relation: $\\frac{dy}{dw_i} = \\frac{dy}{dw_{i+1}} \\frac{dw_{i+1}}{dw_{i}}$ with $w_0 = x$.\n",
    "Generally, both forward and reverse accumulation are specific manifestations of applying the operator of program composition, fixing the appropriate one of the two mappings $(w,y)$. Tensorflow uses *reverse accumulation*.\n",
    "\n",
    "#### Reverse accumulation\n",
    "\n",
    "In reverse accumulation AD, the *dependent variable* to be differentiated is fixed and the derivative is computed *with respect to* each sub-expression recursively. In a pen-and-paper calculation, the derivative of the *outer* functions is repeatedly substituted in the chain rule:\n",
    "\n",
    "$$\\frac{\\partial y}{\\partial x}\n",
    "= \\frac{\\partial y}{\\partial w_1} \\frac{\\partial w_1}{\\partial x}\n",
    "= \\left(\\frac{\\partial y}{\\partial w_2} \\frac{\\partial w_2}{\\partial w_1}\\right) \\frac{\\partial w_1}{\\partial x}\n",
    "= \\left(\\left(\\frac{\\partial y}{\\partial w_3} \\frac{\\partial w_3}{\\partial w_2}\\right) \\frac{\\partial w_2}{\\partial w_1}\\right) \\frac{\\partial w_1}{\\partial x}\n",
    "= \\cdots$$\n",
    "\n",
    "In reverse accumulation, the quantity of interest is the *adjoint*, denoted with a bar ($w̄$); it is a derivative of a chosen dependent variable with respect to a subexpression $w$:\n",
    "\n",
    "$\\bar w = \\frac{\\partial y}{\\partial w}$\n",
    "\n",
    "![ReverseaccumulationAD.png](attachment:ReverseaccumulationAD.png)\n",
    "\n",
    "Reverse accumulation traverses the chain rule from outside to inside, or in the case of the computational graph in the diagram, from top to bottom. The example function is scalar-valued, and thus there is only one seed for the derivative computation, and only one sweep of the computational graph is needed to calculate the (two-component) gradient.\n",
    "This is only half the work when compared to forward accumulation, but reverse accumulation requires the storage of the intermediate variables $w-i$ as well as the instructions that produced them in a data structure known as a Wengert list (or \"tape\") which may consume significant memory if the computational graph is large.\n",
    "This can be mitigated to some extent by storing only a subset of the intermediate variables and then reconstructing the necessary work variables by repeating the evaluations, a technique known as rematerialization. Checkpointing is also used to save intermediary states (Tensorflow supports checkpointing).\n",
    "\n",
    "The operations to compute the derivative using reverse accumulation are shown in the table below (note the reversed order):\n",
    "$$\\begin{array}{l}\n",
    "\\text{Operations to compute derivative}\n",
    "\\\\ \\hline\n",
    "\\bar w_5 = 1 \\text{ (seed)}\n",
    "\\\\\n",
    "\\bar w_4 = \\bar w_5\n",
    "\\\\\n",
    "\\bar w_3 = \\bar w_5\n",
    "\\\\\n",
    "\\bar w_2 = \\bar w_3 \\cdot w_1\n",
    "\\\\\n",
    "\\bar w_1 = \\bar w_3 \\cdot w_2 + \\bar w_4 \\cdot \\cos w_1\n",
    "\\end{array}\n",
    "$$\n",
    "\n",
    "The data flow graph of a computation can be manipulated to calculate the gradient of its original calculation. This is done by adding an adjoint node for each primal node, connected by adjoint edges which parallel the primal edges but flow in the opposite direction. The nodes in the adjoint graph represent multiplication by the derivatives of the functions calculated by the nodes in the primal. For instance, addition in the primal causes fanout in the adjoint; fanout in the primal causes addition in the adjoint; In terms of weight matrices, the adjoint is the transpose. Addition is the covector $[1 \\cdots 1]$, since $[1 \\cdots 1]\n",
    "\\left[\\begin{smallmatrix}x_1 \\\\ \\vdots \\\\ x_n \\end{smallmatrix}\\right] = x_1 + \\cdots + x_n,$ and fanout is the vector $\\left[\\begin{smallmatrix}1 \\\\ \\vdots \\\\ 1 \\end{smallmatrix}\\right],$ since $\\left[\\begin{smallmatrix}1 \\\\ \\vdots \\\\ 1 \\end{smallmatrix}\\right][x] = \\left[\\begin{smallmatrix}x \\\\ \\vdots \\\\ x \\end{smallmatrix}\\right].$ a unary function $y=f(x)$ in the primal causes $x̄=ȳf′(x)$ in the adjoint; etc.\n",
    "\n",
    "Reverse accumulation is more efficient than forward accumulation for functions $f : ℝ^{n} → ℝ^{m}$ with $m ≪ n$ as only $m$ sweeps are necessary, compared to $n$ sweeps for forward accumulation.\n",
    "\n",
    "Reverse mode AD was first published in 1976 by Seppo Linnainmaa.\n",
    "\n",
    "Backpropagation of errors in multilayer perceptrons, a technique used in machine learning, is a special case of reverse mode AD.\n"
   ]
  },
  {
   "cell_type": "markdown",
   "metadata": {},
   "source": [
    "### AD and Gradient Tape in TensorFlow\n",
    "\n",
    "The `tf.GradientTape` records operations for automatic differentiation, computing the gradient of a computation with respect to its inputs. Operations are recorded if they are executed within this context manager and at least one of their inputs is being \"watched\". Tensorflow then uses that tape adn the gradients associated wtih each recorded operation to compute teh gradients of a \"recorded\" computation using *reverse accumulation* (explained above).\n",
    "\n",
    "E.g.\n",
    "\n",
    "Suppose we have the network for\n",
    "\n",
    "$$ y = x^2 $$\n",
    "\n",
    "We can compute analytically $\\frac{dy}{dx}$ $$\\frac{dy}{dx}=2x$$"
   ]
  },
  {
   "cell_type": "code",
   "execution_count": 12,
   "metadata": {},
   "outputs": [
    {
     "name": "stdout",
     "output_type": "stream",
     "text": [
      "dy_dx :  tf.Tensor(10.0, shape=(), dtype=float32)\n"
     ]
    }
   ],
   "source": [
    "x = tf.constant(5.0)\n",
    "\n",
    "with tf.GradientTape() as t:\n",
    "    t.watch(x)\n",
    "    y = x * x\n",
    "    \n",
    "dy_dx = t.gradient(y, x)\n",
    "\n",
    "print('dy_dx : ', dy_dx)"
   ]
  },
  {
   "cell_type": "code",
   "execution_count": 13,
   "metadata": {},
   "outputs": [
    {
     "name": "stdout",
     "output_type": "stream",
     "text": [
      "dy_dk :  tf.Tensor(10.0, shape=(), dtype=float32)\n"
     ]
    }
   ],
   "source": [
    "x = tf.constant([[1, 2], [3, 4]], dtype=tf.float32)\n",
    "\n",
    "with tf.GradientTape() as t:\n",
    "    t.watch(x)\n",
    "    k = tf.matmul(x, x)\n",
    "    y = tf.add(k, tf.ones((2,2)))\n",
    "                 \n",
    "dy_dk = t.gradient(y, k)\n",
    "\n",
    "print('dy_dk : ', dy_dx)"
   ]
  },
  {
   "cell_type": "code",
   "execution_count": 14,
   "metadata": {},
   "outputs": [
    {
     "name": "stdout",
     "output_type": "stream",
     "text": [
      "dy_dk :  tf.Tensor(\n",
      "[[ 7. 11.]\n",
      " [ 9. 13.]], shape=(2, 2), dtype=float32)\n",
      "dy_dx :  tf.Tensor(\n",
      "[[ 7. 11.]\n",
      " [ 9. 13.]], shape=(2, 2), dtype=float32)\n"
     ]
    }
   ],
   "source": [
    "x = tf.constant([[1, 2], [3, 4]], dtype=tf.float32)\n",
    "\n",
    "with tf.GradientTape(persistent=True) as t:\n",
    "    t.watch(x)\n",
    "    k = tf.matmul(x, x)\n",
    "    y = tf.add(k, tf.ones((2,2)))\n",
    "                 \n",
    "dy_dk = t.gradient(y, k)\n",
    "dy_dx = t.gradient(y, x)\n",
    "\n",
    "del t # Drop the rerefence to the tape when finished with it\n",
    "\n",
    "print('dy_dk : ', dy_dx)\n",
    "print('dy_dx : ', dy_dx)"
   ]
  },
  {
   "cell_type": "markdown",
   "metadata": {},
   "source": [
    "Tapes record operations as they execute therefore they naturally handle Python control flow, such as `if` and `while`"
   ]
  },
  {
   "cell_type": "code",
   "execution_count": 15,
   "metadata": {},
   "outputs": [
    {
     "name": "stdout",
     "output_type": "stream",
     "text": [
      "tf.Tensor(72.0, shape=(), dtype=float32)\n",
      "tf.Tensor(24.0, shape=(), dtype=float32)\n",
      "tf.Tensor(6.0, shape=(), dtype=float32)\n"
     ]
    }
   ],
   "source": [
    "def f(x, y):\n",
    "  output = 6.0\n",
    "  for i in range(y):\n",
    "    if i > 2 and i < 6:\n",
    "      output = tf.multiply(output, x)\n",
    "  return output\n",
    "\n",
    "def grad(x, y):\n",
    "  with tf.GradientTape() as t:\n",
    "    t.watch(x)\n",
    "    out = f(x, y)\n",
    "  return t.gradient(out, x)\n",
    "\n",
    "x = tf.Variable(2.0)\n",
    "\n",
    "print(grad(x, 6))\n",
    "print(grad(x, 5))\n",
    "print(grad(x, 4))"
   ]
  },
  {
   "cell_type": "code",
   "execution_count": 16,
   "metadata": {},
   "outputs": [],
   "source": [
    "x = tf.constant(3.0)\n",
    "with tf.GradientTape() as g:\n",
    "  g.watch(x)\n",
    "  with tf.GradientTape() as gg:\n",
    "    gg.watch(x)\n",
    "    y = x * x\n",
    "    \n",
    "dy_dx = gg.gradient(y, x)\n",
    "d2y_dx2 = g.gradient(dy_dx, x)"
   ]
  },
  {
   "cell_type": "markdown",
   "metadata": {},
   "source": [
    "## Ridge Regression with TensorFlow\n",
    "\n",
    "Recall that we looked at ridge regression in section 2, to recap:\n",
    "\n",
    "https://en.wikipedia.org/wiki/Tikhonov_regularization\n",
    "$y=wx_i$ where $w\\in{\\rm I\\!R}^{n}$\n",
    "\n",
    "i.e. if dimensions $n=2$;    $y_{i} = f(x_{i}) = \\begin{bmatrix} w_{0}, w_{1} \\end{bmatrix} \\begin{bmatrix} x_{0} \\\\ x_{1} \\end{bmatrix} = w_{0}x_{0} + w_{1}x_{1}$\n",
    "\n",
    "Model : $\\hat{y}=\\mathbf{X}w$\n",
    "\n",
    "Cost function : $$ J(w)= \\sum_i (w^T x_i - y_i)^2 = {\\bf ||} \\mathbf{X} w-y {\\bf ||}^2_{2} $$\n",
    "\n",
    "$$\\min_{w} \\, (\\mathbf{y} - \\mathbf{X} w)^\\mathsf{T}(\\mathbf{y} - \\mathbf{X} w) $$\n",
    "\n",
    "$$\\frac{\\partial (\\mathbf{y} - \\mathbf{X} w)^\\mathsf{T}(\\mathbf{y} - \\mathbf{X} w)}{\\partial w}=-2X^T(y-\\mathbf{X} w)$$\n",
    "\n",
    "$$\\frac{\\partial (\\mathbf{y} - \\mathbf{X} w)^\\mathsf{T}(\\mathbf{y} - \\mathbf{X} w)}{\\partial w}=-2X^T(y-\\mathbf{X} w) = 0$$\n",
    "\n",
    "$$y=\\mathbf{X} w$$\n",
    "\n",
    "i.e. the analytical solution for the model parameters is to compute :$$w = \\mathbf{X}^{-1} y$$\n",
    "\n",
    "\n",
    "\n",
    "<!-- # Code example showing how to optimse the graph to learn X parameters for instance (Some sort of root finding equation we could easily model here) -->\n",
    "\n",
    "\n"
   ]
  },
  {
   "cell_type": "code",
   "execution_count": 25,
   "metadata": {},
   "outputs": [
    {
     "ename": "InvalidArgumentError",
     "evalue": "In[1] is not a matrix. Instead it has shape [1796] [Op:MatMul] name: MatMul/",
     "output_type": "error",
     "traceback": [
      "\u001b[0;31m---------------------------------------------------------------------------\u001b[0m",
      "\u001b[0;31mInvalidArgumentError\u001b[0m                      Traceback (most recent call last)",
      "\u001b[0;32m<ipython-input-25-c28049007ee1>\u001b[0m in \u001b[0;36m<module>\u001b[0;34m\u001b[0m\n\u001b[1;32m     12\u001b[0m \u001b[0mX_train_inv\u001b[0m \u001b[0;34m=\u001b[0m \u001b[0mtf\u001b[0m\u001b[0;34m.\u001b[0m\u001b[0mlinalg\u001b[0m\u001b[0;34m.\u001b[0m\u001b[0mpinv\u001b[0m\u001b[0;34m(\u001b[0m\u001b[0mX_train\u001b[0m\u001b[0;34m)\u001b[0m\u001b[0;34m\u001b[0m\u001b[0;34m\u001b[0m\u001b[0m\n\u001b[1;32m     13\u001b[0m \u001b[0my_train\u001b[0m \u001b[0;34m=\u001b[0m \u001b[0mtf\u001b[0m\u001b[0;34m.\u001b[0m\u001b[0mVariable\u001b[0m\u001b[0;34m(\u001b[0m\u001b[0my_train\u001b[0m\u001b[0;34m,\u001b[0m \u001b[0mdtype\u001b[0m\u001b[0;34m=\u001b[0m\u001b[0mtf\u001b[0m\u001b[0;34m.\u001b[0m\u001b[0mfloat64\u001b[0m\u001b[0;34m)\u001b[0m\u001b[0;34m\u001b[0m\u001b[0;34m\u001b[0m\u001b[0m\n\u001b[0;32m---> 14\u001b[0;31m \u001b[0mw\u001b[0m \u001b[0;34m=\u001b[0m \u001b[0mtf\u001b[0m\u001b[0;34m.\u001b[0m\u001b[0mmatmul\u001b[0m\u001b[0;34m(\u001b[0m\u001b[0mX_train_inv\u001b[0m\u001b[0;34m,\u001b[0m \u001b[0my_train\u001b[0m\u001b[0;34m)\u001b[0m\u001b[0;34m\u001b[0m\u001b[0;34m\u001b[0m\u001b[0m\n\u001b[0m\u001b[1;32m     15\u001b[0m \u001b[0mprint\u001b[0m\u001b[0;34m(\u001b[0m\u001b[0;34m'w: {}'\u001b[0m\u001b[0;34m.\u001b[0m\u001b[0mformat\u001b[0m\u001b[0;34m(\u001b[0m\u001b[0mw\u001b[0m\u001b[0;34m)\u001b[0m\u001b[0;34m)\u001b[0m\u001b[0;34m\u001b[0m\u001b[0;34m\u001b[0m\u001b[0m\n",
      "\u001b[0;32m~/anaconda3/lib/python3.7/site-packages/tensorflow_core/python/util/dispatch.py\u001b[0m in \u001b[0;36mwrapper\u001b[0;34m(*args, **kwargs)\u001b[0m\n\u001b[1;32m    178\u001b[0m     \u001b[0;34m\"\"\"Call target, and fall back on dispatchers if there is a TypeError.\"\"\"\u001b[0m\u001b[0;34m\u001b[0m\u001b[0;34m\u001b[0m\u001b[0m\n\u001b[1;32m    179\u001b[0m     \u001b[0;32mtry\u001b[0m\u001b[0;34m:\u001b[0m\u001b[0;34m\u001b[0m\u001b[0;34m\u001b[0m\u001b[0m\n\u001b[0;32m--> 180\u001b[0;31m       \u001b[0;32mreturn\u001b[0m \u001b[0mtarget\u001b[0m\u001b[0;34m(\u001b[0m\u001b[0;34m*\u001b[0m\u001b[0margs\u001b[0m\u001b[0;34m,\u001b[0m \u001b[0;34m**\u001b[0m\u001b[0mkwargs\u001b[0m\u001b[0;34m)\u001b[0m\u001b[0;34m\u001b[0m\u001b[0;34m\u001b[0m\u001b[0m\n\u001b[0m\u001b[1;32m    181\u001b[0m     \u001b[0;32mexcept\u001b[0m \u001b[0;34m(\u001b[0m\u001b[0mTypeError\u001b[0m\u001b[0;34m,\u001b[0m \u001b[0mValueError\u001b[0m\u001b[0;34m)\u001b[0m\u001b[0;34m:\u001b[0m\u001b[0;34m\u001b[0m\u001b[0;34m\u001b[0m\u001b[0m\n\u001b[1;32m    182\u001b[0m       \u001b[0;31m# Note: convert_to_eager_tensor currently raises a ValueError, not a\u001b[0m\u001b[0;34m\u001b[0m\u001b[0;34m\u001b[0m\u001b[0;34m\u001b[0m\u001b[0m\n",
      "\u001b[0;32m~/anaconda3/lib/python3.7/site-packages/tensorflow_core/python/ops/math_ops.py\u001b[0m in \u001b[0;36mmatmul\u001b[0;34m(a, b, transpose_a, transpose_b, adjoint_a, adjoint_b, a_is_sparse, b_is_sparse, name)\u001b[0m\n\u001b[1;32m   2796\u001b[0m     \u001b[0;32melse\u001b[0m\u001b[0;34m:\u001b[0m\u001b[0;34m\u001b[0m\u001b[0;34m\u001b[0m\u001b[0m\n\u001b[1;32m   2797\u001b[0m       return gen_math_ops.mat_mul(\n\u001b[0;32m-> 2798\u001b[0;31m           a, b, transpose_a=transpose_a, transpose_b=transpose_b, name=name)\n\u001b[0m\u001b[1;32m   2799\u001b[0m \u001b[0;34m\u001b[0m\u001b[0m\n\u001b[1;32m   2800\u001b[0m \u001b[0;34m\u001b[0m\u001b[0m\n",
      "\u001b[0;32m~/anaconda3/lib/python3.7/site-packages/tensorflow_core/python/ops/gen_math_ops.py\u001b[0m in \u001b[0;36mmat_mul\u001b[0;34m(a, b, transpose_a, transpose_b, name)\u001b[0m\n\u001b[1;32m   5614\u001b[0m         \u001b[0;32mpass\u001b[0m  \u001b[0;31m# Add nodes to the TensorFlow graph.\u001b[0m\u001b[0;34m\u001b[0m\u001b[0;34m\u001b[0m\u001b[0m\n\u001b[1;32m   5615\u001b[0m     \u001b[0;32mexcept\u001b[0m \u001b[0m_core\u001b[0m\u001b[0;34m.\u001b[0m\u001b[0m_NotOkStatusException\u001b[0m \u001b[0;32mas\u001b[0m \u001b[0me\u001b[0m\u001b[0;34m:\u001b[0m\u001b[0;34m\u001b[0m\u001b[0;34m\u001b[0m\u001b[0m\n\u001b[0;32m-> 5616\u001b[0;31m       \u001b[0m_ops\u001b[0m\u001b[0;34m.\u001b[0m\u001b[0mraise_from_not_ok_status\u001b[0m\u001b[0;34m(\u001b[0m\u001b[0me\u001b[0m\u001b[0;34m,\u001b[0m \u001b[0mname\u001b[0m\u001b[0;34m)\u001b[0m\u001b[0;34m\u001b[0m\u001b[0;34m\u001b[0m\u001b[0m\n\u001b[0m\u001b[1;32m   5617\u001b[0m   \u001b[0;31m# Add nodes to the TensorFlow graph.\u001b[0m\u001b[0;34m\u001b[0m\u001b[0;34m\u001b[0m\u001b[0;34m\u001b[0m\u001b[0m\n\u001b[1;32m   5618\u001b[0m   \u001b[0;32mif\u001b[0m \u001b[0mtranspose_a\u001b[0m \u001b[0;32mis\u001b[0m \u001b[0;32mNone\u001b[0m\u001b[0;34m:\u001b[0m\u001b[0;34m\u001b[0m\u001b[0;34m\u001b[0m\u001b[0m\n",
      "\u001b[0;32m~/anaconda3/lib/python3.7/site-packages/tensorflow_core/python/framework/ops.py\u001b[0m in \u001b[0;36mraise_from_not_ok_status\u001b[0;34m(e, name)\u001b[0m\n\u001b[1;32m   6604\u001b[0m   \u001b[0mmessage\u001b[0m \u001b[0;34m=\u001b[0m \u001b[0me\u001b[0m\u001b[0;34m.\u001b[0m\u001b[0mmessage\u001b[0m \u001b[0;34m+\u001b[0m \u001b[0;34m(\u001b[0m\u001b[0;34m\" name: \"\u001b[0m \u001b[0;34m+\u001b[0m \u001b[0mname\u001b[0m \u001b[0;32mif\u001b[0m \u001b[0mname\u001b[0m \u001b[0;32mis\u001b[0m \u001b[0;32mnot\u001b[0m \u001b[0;32mNone\u001b[0m \u001b[0;32melse\u001b[0m \u001b[0;34m\"\"\u001b[0m\u001b[0;34m)\u001b[0m\u001b[0;34m\u001b[0m\u001b[0;34m\u001b[0m\u001b[0m\n\u001b[1;32m   6605\u001b[0m   \u001b[0;31m# pylint: disable=protected-access\u001b[0m\u001b[0;34m\u001b[0m\u001b[0;34m\u001b[0m\u001b[0;34m\u001b[0m\u001b[0m\n\u001b[0;32m-> 6606\u001b[0;31m   \u001b[0msix\u001b[0m\u001b[0;34m.\u001b[0m\u001b[0mraise_from\u001b[0m\u001b[0;34m(\u001b[0m\u001b[0mcore\u001b[0m\u001b[0;34m.\u001b[0m\u001b[0m_status_to_exception\u001b[0m\u001b[0;34m(\u001b[0m\u001b[0me\u001b[0m\u001b[0;34m.\u001b[0m\u001b[0mcode\u001b[0m\u001b[0;34m,\u001b[0m \u001b[0mmessage\u001b[0m\u001b[0;34m)\u001b[0m\u001b[0;34m,\u001b[0m \u001b[0;32mNone\u001b[0m\u001b[0;34m)\u001b[0m\u001b[0;34m\u001b[0m\u001b[0;34m\u001b[0m\u001b[0m\n\u001b[0m\u001b[1;32m   6607\u001b[0m   \u001b[0;31m# pylint: enable=protected-access\u001b[0m\u001b[0;34m\u001b[0m\u001b[0;34m\u001b[0m\u001b[0;34m\u001b[0m\u001b[0m\n\u001b[1;32m   6608\u001b[0m \u001b[0;34m\u001b[0m\u001b[0m\n",
      "\u001b[0;32m~/anaconda3/lib/python3.7/site-packages/six.py\u001b[0m in \u001b[0;36mraise_from\u001b[0;34m(value, from_value)\u001b[0m\n",
      "\u001b[0;31mInvalidArgumentError\u001b[0m: In[1] is not a matrix. Instead it has shape [1796] [Op:MatMul] name: MatMul/"
     ]
    }
   ],
   "source": [
    "from sklearn import datasets\n",
    "digits = datasets.load_digits()\n",
    "\n",
    "# Split the labelled dataset into a training set and test set\n",
    "index_to_split = -1\n",
    "X_train = digits.data[:index_to_split]\n",
    "y_train = digits.target[:index_to_split]\n",
    "\n",
    "X_test = digits.data[index_to_split:]\n",
    "y_test = digits.target[index_to_split:]\n",
    "\n",
    "X_train_inv = tf.linalg.pinv(X_train)\n",
    "y_train = tf.Variable(y_train, dtype=tf.float64)\n",
    "w = tf.matmul(X_train_inv, y_train)\n",
    "print('w: {}'.format(w))"
   ]
  },
  {
   "cell_type": "code",
   "execution_count": 24,
   "metadata": {},
   "outputs": [
    {
     "data": {
      "text/plain": [
       "<tf.Variable 'Variable:0' shape=(1796,) dtype=float64, numpy=array([0., 1., 2., ..., 0., 8., 9.])>"
      ]
     },
     "execution_count": 24,
     "metadata": {},
     "output_type": "execute_result"
    }
   ],
   "source": [
    "tf.Variable(y_train, dtype=tf.float64)"
   ]
  },
  {
   "cell_type": "code",
   "execution_count": 26,
   "metadata": {},
   "outputs": [
    {
     "data": {
      "text/plain": [
       "<tf.Tensor: shape=(64, 1796), dtype=float64, numpy=\n",
       "array([[-1.44454343e-16,  4.77248050e-17, -1.75728195e-16, ...,\n",
       "        -8.97586455e-17, -4.99177468e-17, -9.46522939e-17],\n",
       "       [ 4.02365536e-04, -4.82802154e-04,  2.56479987e-04, ...,\n",
       "         2.57186727e-04,  4.41716719e-04,  3.57176782e-04],\n",
       "       [-1.19242338e-04, -1.83285478e-04,  9.67203497e-05, ...,\n",
       "        -6.98165053e-05, -2.60671829e-04, -9.04256557e-04],\n",
       "       ...,\n",
       "       [-1.70531012e-04,  3.81276875e-04,  2.16697898e-04, ...,\n",
       "         5.34177278e-05, -6.96926919e-05,  2.90717854e-04],\n",
       "       [ 3.74651761e-04, -3.14626899e-04,  3.22190560e-04, ...,\n",
       "         1.48030706e-05,  4.98374194e-07, -3.15970348e-04],\n",
       "       [-8.82476237e-05, -3.19743658e-05, -4.30657895e-04, ...,\n",
       "        -8.57177465e-05,  5.87910971e-05, -1.59243330e-05]])>"
      ]
     },
     "execution_count": 26,
     "metadata": {},
     "output_type": "execute_result"
    }
   ],
   "source": [
    "X_train_inv"
   ]
  },
  {
   "cell_type": "code",
   "execution_count": null,
   "metadata": {},
   "outputs": [],
   "source": []
  }
 ],
 "metadata": {
  "kernelspec": {
   "display_name": "Python 3",
   "language": "python",
   "name": "python3"
  },
  "language_info": {
   "codemirror_mode": {
    "name": "ipython",
    "version": 3
   },
   "file_extension": ".py",
   "mimetype": "text/x-python",
   "name": "python",
   "nbconvert_exporter": "python",
   "pygments_lexer": "ipython3",
   "version": "3.7.5"
  }
 },
 "nbformat": 4,
 "nbformat_minor": 2
}

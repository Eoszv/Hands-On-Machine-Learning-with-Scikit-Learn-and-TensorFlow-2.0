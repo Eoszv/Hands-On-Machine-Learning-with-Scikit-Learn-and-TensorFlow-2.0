{
 "cells": [
  {
   "cell_type": "code",
   "execution_count": 1,
   "metadata": {},
   "outputs": [
    {
     "name": "stdout",
     "output_type": "stream",
     "text": [
      "Requirement already satisfied: pydot in /Users/samholt/anaconda3/lib/python3.7/site-packages (1.4.1)\r\n",
      "Requirement already satisfied: pyparsing>=2.1.4 in /Users/samholt/anaconda3/lib/python3.7/site-packages (from pydot) (2.4.5)\r\n"
     ]
    }
   ],
   "source": [
    "%config IPCompleter.greedy = True\n",
    "%config InlineBackend.figure_format = 'retina'\n",
    "%matplotlib inline\n",
    "%load_ext tensorboard\n",
    "\n",
    "import matplotlib.pyplot as plt\n",
    "import numpy as np\n",
    "import pandas as pd\n",
    "import seaborn as sn\n",
    "import tensorflow as tf\n",
    "from datetime import datetime\n",
    "\n",
    "pd.set_option('mode.chained_assignment', None)\n",
    "sn.set(rc={'figure.figsize':(9,9)})\n",
    "sn.set(font_scale=1.4)\n",
    "\n",
    "# make results reproducible\n",
    "seed = 0\n",
    "np.random.seed(seed)\n",
    "\n",
    "!pip install pydot\n",
    "!rm -rf ./logs/ "
   ]
  },
  {
   "cell_type": "markdown",
   "metadata": {},
   "source": [
    "More functiona API stuff ! \n",
    "\n",
    "\n",
    "5 sections or so of material to go here & then go on rest of video in more things \n",
    "\n",
    "\n",
    "\n",
    "\n",
    "\n",
    "## Model subclassing\n",
    "\n",
    "## Custom layers\n",
    "\n",
    "## Call backs in Keras"
   ]
  },
  {
   "cell_type": "code",
   "execution_count": null,
   "metadata": {},
   "outputs": [],
   "source": []
  },
  {
   "cell_type": "markdown",
   "metadata": {},
   "source": [
    "# Keras customisation\n"
   ]
  },
  {
   "cell_type": "markdown",
   "metadata": {},
   "source": [
    "# Artificial neural networks (ANN)\n",
    "\n",
    "Dataset object ! \n",
    "\n",
    "Writing custom layers in keras\n",
    "\n",
    "Saving & serlialising entire models - cross compatability\n",
    "\n",
    "Custom call backs etc ! \n",
    "\n",
    "Will have to do a video on Tensorboard at some point\n",
    "\n",
    "\n",
    "---\n",
    "Another video \n",
    "\n",
    "Optomizers\n",
    "\n",
    "Activation functions\n",
    "\n",
    "Initilisation schemes etc\n",
    "\n",
    "Dropout etc ! "
   ]
  },
  {
   "cell_type": "code",
   "execution_count": null,
   "metadata": {},
   "outputs": [],
   "source": []
  }
 ],
 "metadata": {
  "kernelspec": {
   "display_name": "Python 3",
   "language": "python",
   "name": "python3"
  },
  "language_info": {
   "codemirror_mode": {
    "name": "ipython",
    "version": 3
   },
   "file_extension": ".py",
   "mimetype": "text/x-python",
   "name": "python",
   "nbconvert_exporter": "python",
   "pygments_lexer": "ipython3",
   "version": "3.7.5"
  }
 },
 "nbformat": 4,
 "nbformat_minor": 2
}

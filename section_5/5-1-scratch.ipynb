{
 "cells": [
  {
   "cell_type": "code",
   "execution_count": 1,
   "metadata": {},
   "outputs": [],
   "source": [
    "%config IPCompleter.greedy = True\n",
    "%config InlineBackend.figure_format = 'retina'\n",
    "%matplotlib inline\n",
    "\n",
    "import matplotlib.pyplot as plt\n",
    "import numpy as np\n",
    "import pandas as pd\n",
    "import seaborn as sn\n",
    "\n",
    "pd.set_option('mode.chained_assignment', None)\n",
    "sn.set(rc={'figure.figsize':(9,9)})\n",
    "sn.set(font_scale=1.4)"
   ]
  },
  {
   "cell_type": "code",
   "execution_count": 11,
   "metadata": {},
   "outputs": [
    {
     "data": {
      "text/html": [
       "\n",
       "        <iframe\n",
       "            width=\"100%\"\n",
       "            height=\"1000\"\n",
       "            src=\"https://developers-dot-devsite-v2-prod.appspot.com/machine-learning/crash-course/playground/#activation=relu&regularization=L2&batchSize=10&dataset=xor&regDataset=reg-plane&learningRate=0.01&regularizationRate=0&noise=35&networkShape=3&seed=0.01393&showTestData=false&discretize=false&percTrainData=50&x=true&y=true&xTimesY=true&xSquared=true&ySquared=true&cosX=false&sinX=false&cosY=false&sinY=false&collectStats=true&tutorial=dp-neural-net-intro-initialization&problem=classification&initZero=false&hideText=true&goalTestLossMinThresholdFirst=0.2&dataset_hide=true&percTrainData_hide=false&noise_hide=false&batchSize_hide=false&xTimesY_hide=true&xSquared_hide=true&ySquared_hide=true&sinX_hide=true&sinY_hide=true&activation_hide=false&learningRate_hide=false&regularization_hide=false&regularizationRate_hide=false&numHiddenLayers_hide=false&problem_hide=true?scrolling=no\"\n",
       "            frameborder=\"0\"\n",
       "            allowfullscreen\n",
       "        ></iframe>\n",
       "        "
      ],
      "text/plain": [
       "<IPython.lib.display.IFrame at 0x7ffc89a8c590>"
      ]
     },
     "execution_count": 11,
     "metadata": {},
     "output_type": "execute_result"
    }
   ],
   "source": [
    "from IPython.display import IFrame\n",
    "IFrame('https://developers-dot-devsite-v2-prod.appspot.com/machine-learning/crash-course/playground/#activation=relu&regularization=L2&batchSize=10&dataset=xor&regDataset=reg-plane&learningRate=0.01&regularizationRate=0&noise=35&networkShape=3&seed=0.01393&showTestData=false&discretize=false&percTrainData=50&x=true&y=true&xTimesY=true&xSquared=true&ySquared=true&cosX=false&sinX=false&cosY=false&sinY=false&collectStats=true&tutorial=dp-neural-net-intro-initialization&problem=classification&initZero=false&hideText=true&goalTestLossMinThresholdFirst=0.2&dataset_hide=true&percTrainData_hide=false&noise_hide=false&batchSize_hide=false&xTimesY_hide=true&xSquared_hide=true&ySquared_hide=true&sinX_hide=true&sinY_hide=true&activation_hide=false&learningRate_hide=false&regularization_hide=false&regularizationRate_hide=false&numHiddenLayers_hide=false&problem_hide=true', width='100%', height='1000', scrolling='no')"
   ]
  },
  {
   "cell_type": "markdown",
   "metadata": {},
   "source": [
    "\n",
    "# Deep learning in pratice ! \n",
    "\n",
    "1. Example of a deep neural network - to we the appetite ! \n",
    "2. Expalain what a neural network is \n",
    "3. How we can use tensorflow to do this !\n",
    "\n",
    "# However here people want to understand the specific framework !\n",
    "\n",
    "Need some context to put and use the framework in, pinning it down in examples like that is too small & restrictive I think, want to show how it can be applied and improved to most processes & applications & how this specific framework works from the ground up !?\n",
    "\n",
    "\n",
    "-> Focus on the framework first and foremost then talk about how it can be applied to those Neural network types"
   ]
  },
  {
   "cell_type": "code",
   "execution_count": null,
   "metadata": {},
   "outputs": [],
   "source": []
  }
 ],
 "metadata": {
  "kernelspec": {
   "display_name": "Python 3",
   "language": "python",
   "name": "python3"
  },
  "language_info": {
   "codemirror_mode": {
    "name": "ipython",
    "version": 3
   },
   "file_extension": ".py",
   "mimetype": "text/x-python",
   "name": "python",
   "nbconvert_exporter": "python",
   "pygments_lexer": "ipython3",
   "version": "3.7.5"
  }
 },
 "nbformat": 4,
 "nbformat_minor": 2
}
